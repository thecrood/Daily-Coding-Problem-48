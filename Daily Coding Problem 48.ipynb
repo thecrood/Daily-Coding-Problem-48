{
 "cells": [
  {
   "cell_type": "markdown",
   "id": "2c3975bc",
   "metadata": {},
   "source": [
    "# Daily Coding Problem 48"
   ]
  },
  {
   "cell_type": "raw",
   "id": "dc8c64ed",
   "metadata": {},
   "source": [
    "This problem was asked by Google.\n",
    "\n",
    "Given pre-order and in-order traversals of a binary tree, write a function to reconstruct the tree.\n",
    "\n",
    "For example, given the following preorder traversal:\n",
    "\n",
    "[a, b, d, e, c, f, g]\n",
    "\n",
    "And the following inorder traversal:\n",
    "\n",
    "[d, b, e, a, f, c, g]\n",
    "\n",
    "You should return the following tree:\n",
    "\n",
    "    a\n",
    "   / \\\n",
    "  b   c\n",
    " / \\ / \\\n",
    "d  e f  g"
   ]
  },
  {
   "cell_type": "markdown",
   "id": "31a96286",
   "metadata": {},
   "source": [
    "# Solution\n",
    "\n",
    "Recall the definitions of preorder and inorder traversals:\n",
    "\n",
    "For preorder:\n",
    "\n",
    "- Evaluate root node\n",
    "- Evaluate left node recursively\n",
    "- Evaluate right node recursively\n",
    "For inorder:\n",
    "\n",
    "- Evaluate left node recursively\n",
    "- Evaluate root node\n",
    "- Evaluate right node recursively\n",
    "It's helpful to go over an example. Consider the following tree:\n",
    "\n",
    "    a\n",
    "   / \\\n",
    "  b   c\n",
    " / \\ / \\\n",
    "d  e f  g\n",
    "The preorder traversal for this tree would be [a, b, d, e, c, f, g].\n",
    "\n",
    "The inorder traversal for this tree would be [d, b, e, a, f, c, g].\n",
    "\n",
    "Notice that because we always evaluate the root node first in a preorder traversal, the first element in the preorder traversal will always be the root. The second element is then either the root of the left node if there is one, or the root of the right node. But how do we know?\n",
    "\n",
    "We can look at the inorder traversal.\n",
    "\n",
    "Because we look at the left node first in an inorder traversal, all the elements up until the root will be part of the left subtree. All elements after the root will be the right subtree.\n",
    "\n",
    "Preorder:\n",
    "[a, b, d, e, c, f, g]\n",
    "| r | left  | right |\n",
    "\n",
    "Inorder:\n",
    "[d, b, e, a, f, c, g]\n",
    "| left  | r | right |\n",
    "\n",
    "(r = root)\n",
    "This gives us an idea for how to solve the problem:\n",
    "\n",
    "Find the root by looking at the first element in the preorder traversal\n",
    "Find out how many elements are in the left subtree and right subtree by searching for the index of the root in the inorder traversal\n",
    "Recursively reconstruct the left subtree and right subtree\n",
    "The code for this problem would look like this:"
   ]
  },
  {
   "cell_type": "code",
   "execution_count": 2,
   "id": "8780d564",
   "metadata": {},
   "outputs": [],
   "source": [
    "def reconstruct(preorder, inorder):\n",
    "    if not preorder and not inorder:\n",
    "        return None\n",
    "    if len(preorder) == len(inorder) == 1:\n",
    "        return preorder[0]\n",
    "\n",
    "    root = preorder[0]\n",
    "    root_i = inorder.index(root)\n",
    "    root.left = reconstruct(preorder[1:1 + root_i], inorder[0:root_i])\n",
    "    root.right = reconstruct(preorder[1 + root_i:], inorder[root_i + 1:])\n",
    "    return root\n"
   ]
  },
  {
   "cell_type": "code",
   "execution_count": null,
   "id": "076f74ec",
   "metadata": {},
   "outputs": [],
   "source": []
  },
  {
   "cell_type": "code",
   "execution_count": null,
   "id": "4b574181",
   "metadata": {},
   "outputs": [],
   "source": []
  }
 ],
 "metadata": {
  "kernelspec": {
   "display_name": "Python 3 (ipykernel)",
   "language": "python",
   "name": "python3"
  },
  "language_info": {
   "codemirror_mode": {
    "name": "ipython",
    "version": 3
   },
   "file_extension": ".py",
   "mimetype": "text/x-python",
   "name": "python",
   "nbconvert_exporter": "python",
   "pygments_lexer": "ipython3",
   "version": "3.8.10"
  }
 },
 "nbformat": 4,
 "nbformat_minor": 5
}
